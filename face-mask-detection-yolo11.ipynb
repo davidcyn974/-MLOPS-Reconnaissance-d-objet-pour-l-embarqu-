{
 "cells": [
  {
   "cell_type": "code",
   "execution_count": null,
   "metadata": {
    "execution": {
     "iopub.execute_input": "2024-11-21T06:28:34.598221Z",
     "iopub.status.busy": "2024-11-21T06:28:34.597457Z",
     "iopub.status.idle": "2024-11-21T06:28:49.558174Z",
     "shell.execute_reply": "2024-11-21T06:28:49.557479Z",
     "shell.execute_reply.started": "2024-11-21T06:28:34.59818Z"
    },
    "trusted": true
   },
   "outputs": [],
   "source": [
    "import numpy as np \n",
    "import pandas as pd\n",
    "import matplotlib.pyplot as plt\n",
    "\n",
    "import xml.etree.cElementTree as ET\n",
    "import glob\n",
    "import os\n",
    "import json\n",
    "import random\n",
    "import shutil\n",
    "\n",
    "from PIL import Image, ImageOps\n",
    "from ultralytics import YOLO"
   ]
  },
  {
   "cell_type": "code",
   "execution_count": null,
   "metadata": {},
   "outputs": [],
   "source": [
    "%pip install kagglehub\n",
    "\n",
    "import kagglehub\n",
    "\n",
    "# Download latest version\n",
    "path = kagglehub.dataset_download(\"andrewmvd/face-mask-detection\")\n",
    "\n",
    "print(\"Path to dataset files:\", path)"
   ]
  },
  {
   "cell_type": "code",
   "execution_count": null,
   "metadata": {
    "execution": {
     "iopub.execute_input": "2024-11-21T06:28:49.560318Z",
     "iopub.status.busy": "2024-11-21T06:28:49.559393Z",
     "iopub.status.idle": "2024-11-21T06:28:49.659583Z",
     "shell.execute_reply": "2024-11-21T06:28:49.658791Z",
     "shell.execute_reply.started": "2024-11-21T06:28:49.560274Z"
    },
    "trusted": true
   },
   "outputs": [],
   "source": [
    "Image.open(\"/kaggle/input/face-mask-detection/images/maksssksksss116.png\")"
   ]
  },
  {
   "cell_type": "code",
   "execution_count": null,
   "metadata": {
    "execution": {
     "iopub.execute_input": "2024-11-21T06:28:49.662316Z",
     "iopub.status.busy": "2024-11-21T06:28:49.662019Z",
     "iopub.status.idle": "2024-11-21T06:28:49.670422Z",
     "shell.execute_reply": "2024-11-21T06:28:49.669595Z",
     "shell.execute_reply.started": "2024-11-21T06:28:49.662284Z"
    },
    "trusted": true
   },
   "outputs": [],
   "source": [
    "def xml_to_yolo_bbox(bbox, w, h):\n",
    "    x_center = ((bbox[2] + bbox[0]) / 2) / w\n",
    "    y_center = ((bbox[3] + bbox[1]) / 2) / h\n",
    "\n",
    "    width = (bbox[2] - bbox[0]) / w\n",
    "    height = (bbox[3] - bbox[1]) / h\n",
    "\n",
    "    return [x_center, y_center, width, height]\n",
    "\n",
    "def yolo_to_xml_bbox(bbox, w, h):\n",
    "    w_half_len = (bbox[2] * w) / 2\n",
    "    h_half_len = (bbox[3] * h) / 2\n",
    "\n",
    "    xmin = int((bbox[0] * w) - w_half_len)\n",
    "    ymin = int((bbox[1] * h) - h_half_len)\n",
    "    xmax = int((bbox[0] * w) + w_half_len)\n",
    "    ymax = int((bbox[1] * h) + h_half_len)\n",
    "\n",
    "    return [xmin, ymin, xmax, ymax]"
   ]
  },
  {
   "cell_type": "code",
   "execution_count": null,
   "metadata": {
    "execution": {
     "iopub.execute_input": "2024-11-21T06:28:49.671641Z",
     "iopub.status.busy": "2024-11-21T06:28:49.671399Z",
     "iopub.status.idle": "2024-11-21T06:28:55.654997Z",
     "shell.execute_reply": "2024-11-21T06:28:55.653882Z",
     "shell.execute_reply.started": "2024-11-21T06:28:49.671618Z"
    },
    "trusted": true
   },
   "outputs": [],
   "source": [
    "classes = []\n",
    "\n",
    "input_dir = '/kaggle/input/face-mask-detection/annotations'\n",
    "output_dir = '/kaggle/working/labels'\n",
    "image_dir = '/kaggle/input/face-mask-detection/images'\n",
    "\n",
    "if not os.path.exists(output_dir):\n",
    "    os.mkdir(output_dir)\n",
    "\n",
    "files = glob.glob(os.path.join(input_dir, '*.xml'))\n",
    "for fil in files:\n",
    "    basename = os.path.basename(fil)\n",
    "    filename = os.path.splitext(basename)[0]\n",
    "    if not os.path.exists(os.path.join(image_dir, f'{filename}.png')):\n",
    "        print(f'{filename} image does not exist')\n",
    "        continue\n",
    "\n",
    "    result = []\n",
    "\n",
    "    tree = ET.parse(fil)\n",
    "    root = tree.getroot()\n",
    "    width = int(root.find('size').find('width').text)\n",
    "    height = int(root.find('size').find('height').text)\n",
    "\n",
    "    for obj in root.findall('object'):\n",
    "        label = obj.find('name').text\n",
    "\n",
    "        if label not in classes:\n",
    "            classes.append(label)\n",
    "\n",
    "        index = classes.index(label)\n",
    "        pil_bbox = [int(x.text) for x in obj.find('bndbox')]\n",
    "        yolo_bbox = xml_to_yolo_bbox(pil_bbox, width, height)\n",
    "\n",
    "        bbox_string =  ' '.join([str(x) for x in yolo_bbox])\n",
    "        result.append(f'{index} {bbox_string}')\n",
    "\n",
    "    if result:\n",
    "        with open(os.path.join(output_dir, f'{filename}.txt'), 'w', encoding = 'utf-8') as f:\n",
    "            f.write('\\n'.join(result))\n",
    "\n",
    "with open(f'{output_dir}/classes.txt', 'w', encoding = 'utf-8') as f:\n",
    "    f.write(json.dumps(classes))"
   ]
  },
  {
   "cell_type": "code",
   "execution_count": null,
   "metadata": {
    "execution": {
     "iopub.execute_input": "2024-11-21T06:28:55.656991Z",
     "iopub.status.busy": "2024-11-21T06:28:55.65666Z",
     "iopub.status.idle": "2024-11-21T06:28:55.663737Z",
     "shell.execute_reply": "2024-11-21T06:28:55.661679Z",
     "shell.execute_reply.started": "2024-11-21T06:28:55.656962Z"
    },
    "trusted": true
   },
   "outputs": [],
   "source": [
    "with open(f'{output_dir}/classes.txt') as f:\n",
    "    contents = f.read()\n",
    "    print(contents)"
   ]
  },
  {
   "cell_type": "code",
   "execution_count": null,
   "metadata": {
    "execution": {
     "iopub.execute_input": "2024-11-21T06:28:55.665085Z",
     "iopub.status.busy": "2024-11-21T06:28:55.664794Z",
     "iopub.status.idle": "2024-11-21T06:28:55.682397Z",
     "shell.execute_reply": "2024-11-21T06:28:55.681569Z",
     "shell.execute_reply.started": "2024-11-21T06:28:55.665059Z"
    },
    "trusted": true
   },
   "outputs": [],
   "source": [
    "annotation_count = len(os.listdir(\"/kaggle/input/face-mask-detection/annotations\"))\n",
    "labels_count = len(os.listdir(\"/kaggle/working/labels\"))\n",
    "print(f\"Annotation Counts: {annotation_count}\")\n",
    "print(f\"Lables Counts: {labels_count}\")"
   ]
  },
  {
   "cell_type": "code",
   "execution_count": null,
   "metadata": {
    "execution": {
     "iopub.execute_input": "2024-11-21T06:28:55.683968Z",
     "iopub.status.busy": "2024-11-21T06:28:55.68364Z",
     "iopub.status.idle": "2024-11-21T06:28:55.698504Z",
     "shell.execute_reply": "2024-11-21T06:28:55.697712Z",
     "shell.execute_reply.started": "2024-11-21T06:28:55.683932Z"
    },
    "trusted": true
   },
   "outputs": [],
   "source": [
    "if not os.path.isfile(\"/kaggle/working/data\"):\n",
    "    os.mkdir('/kaggle/working/data')\n",
    "    os.mkdir('/kaggle/working/data/train')\n",
    "    os.mkdir('/kaggle/working/data/val')\n",
    "    os.mkdir('/kaggle/working/data/test')\n",
    "    os.mkdir('/kaggle/working/data/train/images')\n",
    "    os.mkdir('/kaggle/working/data/train/labels')\n",
    "    os.mkdir('/kaggle/working/data/test/images')\n",
    "    os.mkdir('/kaggle/working/data/test/labels')\n",
    "    os.mkdir('/kaggle/working/data/val/images')\n",
    "    os.mkdir('/kaggle/working/data/val/labels')"
   ]
  },
  {
   "cell_type": "code",
   "execution_count": null,
   "metadata": {
    "execution": {
     "iopub.execute_input": "2024-11-21T06:28:55.699884Z",
     "iopub.status.busy": "2024-11-21T06:28:55.699494Z",
     "iopub.status.idle": "2024-11-21T06:28:55.719277Z",
     "shell.execute_reply": "2024-11-21T06:28:55.718333Z",
     "shell.execute_reply.started": "2024-11-21T06:28:55.699857Z"
    },
    "trusted": true
   },
   "outputs": [],
   "source": [
    "metarial = []\n",
    "for i in os.listdir(\"/kaggle/input/face-mask-detection/images\"):\n",
    "    str = i[:-4]\n",
    "    metarial.append(str)"
   ]
  },
  {
   "cell_type": "code",
   "execution_count": null,
   "metadata": {
    "execution": {
     "iopub.execute_input": "2024-11-21T06:28:55.722958Z",
     "iopub.status.busy": "2024-11-21T06:28:55.721933Z",
     "iopub.status.idle": "2024-11-21T06:28:55.734305Z",
     "shell.execute_reply": "2024-11-21T06:28:55.733047Z",
     "shell.execute_reply.started": "2024-11-21T06:28:55.72292Z"
    },
    "trusted": true
   },
   "outputs": [],
   "source": [
    "metarial[:10]"
   ]
  },
  {
   "cell_type": "code",
   "execution_count": null,
   "metadata": {
    "execution": {
     "iopub.execute_input": "2024-11-21T06:28:55.735709Z",
     "iopub.status.busy": "2024-11-21T06:28:55.735462Z",
     "iopub.status.idle": "2024-11-21T06:28:55.754619Z",
     "shell.execute_reply": "2024-11-21T06:28:55.75232Z",
     "shell.execute_reply.started": "2024-11-21T06:28:55.735685Z"
    },
    "trusted": true
   },
   "outputs": [],
   "source": [
    "print(\"Sum of image: \", len(metarial))\n",
    "train_size = int(len(metarial) * 0.7)\n",
    "test_size = int(len(metarial) * 0.15)\n",
    "val_size = int(len(metarial) * 0.15)\n",
    "print(\"Sum of the train size: \", train_size)\n",
    "print(\"Sum of the test size: \", test_size)\n",
    "print(\"Sum of the val size: \", val_size)"
   ]
  },
  {
   "cell_type": "code",
   "execution_count": null,
   "metadata": {
    "execution": {
     "iopub.execute_input": "2024-11-21T06:28:55.757593Z",
     "iopub.status.busy": "2024-11-21T06:28:55.756942Z",
     "iopub.status.idle": "2024-11-21T06:28:55.774449Z",
     "shell.execute_reply": "2024-11-21T06:28:55.772668Z",
     "shell.execute_reply.started": "2024-11-21T06:28:55.757545Z"
    },
    "trusted": true
   },
   "outputs": [],
   "source": [
    "def preparinbdata(main_txt_file, main_img_file, train_size, test_size, val_size):\n",
    "    for i in range(0, train_size):\n",
    "        source_txt = main_txt_file + \"/\" + metarial[i] + \".txt\"\n",
    "        source_img = main_img_file + \"/\" + metarial[i] + \".png\"\n",
    "        \n",
    "        mstring = metarial[i]\n",
    "        train_destination_txt = \"/kaggle/working/data/train/labels\" + \"/\" + metarial[i] + \".txt\"\n",
    "        train_destination_png = \"/kaggle/working/data/train/images\" + \"/\" + metarial[i] + \".png\"\n",
    "        \n",
    "        shutil.copy(source_txt, train_destination_txt)\n",
    "        shutil.copy(source_img, train_destination_png)\n",
    "        \n",
    "    for l in range(train_size , train_size + test_size):\n",
    "\n",
    "        source_txt = main_txt_file + \"/\" + metarial[l] + \".txt\"\n",
    "        source_img = main_img_file + \"/\" + metarial[l] + \".png\"\n",
    "\n",
    "        mstring = metarial[l]\n",
    "        test_destination_txt = \"/kaggle/working/data/test/labels\" + \"/\" + metarial[l] + \".txt\"\n",
    "        test_destination_png = \"/kaggle/working/data/test/images\" + \"/\" + metarial[l] + \".png\"\n",
    "\n",
    "        shutil.copy(source_txt, test_destination_txt)\n",
    "        shutil.copy(source_img, test_destination_png)\n",
    "\n",
    "\n",
    "    for n in range(train_size + test_size , train_size + test_size + val_size):\n",
    "\n",
    "        source_txt = main_txt_file + \"/\" + metarial[n] + \".txt\"\n",
    "        source_img = main_img_file + \"/\" + metarial[n] + \".png\"\n",
    "\n",
    "        mstring = metarial[n]\n",
    "        val_destination_txt = \"/kaggle/working/data/val/labels\" + \"/\" + metarial[n] + \".txt\"\n",
    "        val_destination_png = \"/kaggle/working/data/val/images\" + \"/\" + metarial[n] + \".png\"\n",
    "\n",
    "        shutil.copy(source_txt, val_destination_txt)\n",
    "        shutil.copy(source_img, val_destination_png)"
   ]
  },
  {
   "cell_type": "code",
   "execution_count": null,
   "metadata": {
    "execution": {
     "iopub.execute_input": "2024-11-21T06:28:55.778673Z",
     "iopub.status.busy": "2024-11-21T06:28:55.777397Z",
     "iopub.status.idle": "2024-11-21T06:29:07.455105Z",
     "shell.execute_reply": "2024-11-21T06:29:07.454344Z",
     "shell.execute_reply.started": "2024-11-21T06:28:55.778615Z"
    },
    "trusted": true
   },
   "outputs": [],
   "source": [
    "preparinbdata(main_txt_file = \"/kaggle/working/labels\", \n",
    "              main_img_file = \"/kaggle/input/face-mask-detection/images\",\n",
    "              train_size = train_size,\n",
    "              test_size = test_size, \n",
    "              val_size = val_size)"
   ]
  },
  {
   "cell_type": "code",
   "execution_count": null,
   "metadata": {
    "execution": {
     "iopub.execute_input": "2024-11-21T06:29:07.45645Z",
     "iopub.status.busy": "2024-11-21T06:29:07.456165Z",
     "iopub.status.idle": "2024-11-21T06:29:07.460856Z",
     "shell.execute_reply": "2024-11-21T06:29:07.460089Z",
     "shell.execute_reply.started": "2024-11-21T06:29:07.456424Z"
    },
    "trusted": true
   },
   "outputs": [],
   "source": [
    "yaml_text = \"\"\"train: /kaggle/working/data/train/images/\n",
    "val: /kaggle/working/data/val/images/\n",
    "\n",
    "nc: 3\n",
    "names: [\"with_mask\", \"mask_weared_incorrect\", \"without_mask\"]\"\"\"\n",
    "\n",
    "with open(\"/kaggle/working/data/data.yaml\", 'w') as file:\n",
    "    file.write(yaml_text)"
   ]
  },
  {
   "cell_type": "code",
   "execution_count": null,
   "metadata": {
    "execution": {
     "iopub.execute_input": "2024-11-21T06:29:07.462197Z",
     "iopub.status.busy": "2024-11-21T06:29:07.461914Z",
     "iopub.status.idle": "2024-11-21T06:29:07.478172Z",
     "shell.execute_reply": "2024-11-21T06:29:07.477321Z",
     "shell.execute_reply.started": "2024-11-21T06:29:07.462171Z"
    },
    "trusted": true
   },
   "outputs": [],
   "source": [
    "with open(\"/kaggle/working/data/data.yaml\") as f:\n",
    "    contents = f.read()\n",
    "    print(contents)"
   ]
  },
  {
   "cell_type": "code",
   "execution_count": null,
   "metadata": {
    "execution": {
     "iopub.execute_input": "2024-11-21T06:30:11.139567Z",
     "iopub.status.busy": "2024-11-21T06:30:11.139106Z",
     "iopub.status.idle": "2024-11-21T06:43:51.330192Z",
     "shell.execute_reply": "2024-11-21T06:43:51.3292Z",
     "shell.execute_reply.started": "2024-11-21T06:30:11.139524Z"
    },
    "trusted": true
   },
   "outputs": [],
   "source": [
    "from ultralytics import YOLO\n",
    "\n",
    "model = YOLO('yolo11n.pt')\n",
    "\n",
    "results = model.train(data=\"/kaggle/working/data/data.yaml\", epochs=60, imgsz=640, save = True, device = [0])"
   ]
  },
  {
   "cell_type": "code",
   "execution_count": null,
   "metadata": {
    "execution": {
     "iopub.execute_input": "2024-11-21T06:44:18.187734Z",
     "iopub.status.busy": "2024-11-21T06:44:18.187347Z",
     "iopub.status.idle": "2024-11-21T06:44:18.192513Z",
     "shell.execute_reply": "2024-11-21T06:44:18.191531Z",
     "shell.execute_reply.started": "2024-11-21T06:44:18.1877Z"
    },
    "trusted": true
   },
   "outputs": [],
   "source": [
    "names=[\"with_mask\", \"mask_weared_incorrect\", \"without_mask\"]"
   ]
  },
  {
   "cell_type": "code",
   "execution_count": null,
   "metadata": {
    "execution": {
     "iopub.execute_input": "2024-11-21T06:46:35.915847Z",
     "iopub.status.busy": "2024-11-21T06:46:35.915482Z",
     "iopub.status.idle": "2024-11-21T06:46:37.234596Z",
     "shell.execute_reply": "2024-11-21T06:46:37.233322Z",
     "shell.execute_reply.started": "2024-11-21T06:46:35.915816Z"
    },
    "trusted": true
   },
   "outputs": [],
   "source": [
    "import cv2\n",
    "import random\n",
    "image_dir='/kaggle/working/data/train/images'\n",
    "image_files = os.listdir(image_dir)\n",
    "random_image_file = random.choice(image_files)\n",
    "img_path = os.path.join(image_dir, random_image_file)\n",
    "\n",
    "random_images = random.sample(image_files, 16)\n",
    "label_files = '/kaggle/working/data/train/labels'\n",
    "fig, axs = plt.subplots(4, 4, figsize=(16, 16))\n",
    "\n",
    "for i, image_file in enumerate(random_images):\n",
    "    row = i // 4\n",
    "    col = i % 4\n",
    "    image_path = os.path.join(image_dir, image_file)\n",
    "    image = cv2.imread(image_path)\n",
    "  \n",
    "    label_file = os.path.splitext(image_file)[0] + \".txt\"\n",
    "    label_path = os.path.join(label_files, label_file)\n",
    "    with open(label_path, \"r\") as f:\n",
    "        labels = f.read().strip().split(\"\\n\")\n",
    "\n",
    "    for label in labels:\n",
    "        if len(label.split()) != 5:\n",
    "            continue\n",
    "        class_id, x_center, y_center, width, height = map(float, label.split())\n",
    "        x_min = int((x_center - width/2) * image.shape[1])\n",
    "        y_min = int((y_center - height/2) * image.shape[0])\n",
    "        x_max = int((x_center + width/2) * image.shape[1])\n",
    "        y_max = int((y_center + height/2) * image.shape[0])\n",
    "        cv2.rectangle(image, (x_min, y_min), (x_max, y_max), (0, 255, 0), 3)\n",
    "        class_name = names[int(class_id)]\n",
    "        cv2.putText(image, class_name, (x_min, y_min - 10), cv2.FONT_HERSHEY_SIMPLEX,2, (255, 2, 0), 2, cv2.LINE_AA)\n",
    "\n",
    "\n",
    "    axs[row, col].imshow(cv2.cvtColor(image, cv2.COLOR_BGR2RGB))\n",
    "    axs[row, col].axis('off')\n",
    "\n",
    "plt.show()"
   ]
  },
  {
   "cell_type": "code",
   "execution_count": null,
   "metadata": {
    "execution": {
     "iopub.execute_input": "2024-11-21T06:46:49.147804Z",
     "iopub.status.busy": "2024-11-21T06:46:49.147076Z",
     "iopub.status.idle": "2024-11-21T06:46:49.35853Z",
     "shell.execute_reply": "2024-11-21T06:46:49.35762Z",
     "shell.execute_reply.started": "2024-11-21T06:46:49.147767Z"
    },
    "trusted": true
   },
   "outputs": [],
   "source": [
    "Image.open(\"/kaggle/working/runs/detect/train/results.png\")\n"
   ]
  },
  {
   "cell_type": "code",
   "execution_count": null,
   "metadata": {
    "execution": {
     "iopub.execute_input": "2024-11-21T06:47:20.430193Z",
     "iopub.status.busy": "2024-11-21T06:47:20.429228Z",
     "iopub.status.idle": "2024-11-21T06:47:27.306017Z",
     "shell.execute_reply": "2024-11-21T06:47:27.304921Z",
     "shell.execute_reply.started": "2024-11-21T06:47:20.430146Z"
    },
    "trusted": true
   },
   "outputs": [],
   "source": [
    "metrics=model.val(split='val')"
   ]
  },
  {
   "cell_type": "code",
   "execution_count": null,
   "metadata": {
    "execution": {
     "iopub.execute_input": "2024-11-21T06:47:35.972705Z",
     "iopub.status.busy": "2024-11-21T06:47:35.971824Z",
     "iopub.status.idle": "2024-11-21T06:47:35.979036Z",
     "shell.execute_reply": "2024-11-21T06:47:35.978009Z",
     "shell.execute_reply.started": "2024-11-21T06:47:35.972667Z"
    },
    "trusted": true
   },
   "outputs": [],
   "source": [
    "\n",
    "print(f\"Mean Average Precision @.5:.95 : {metrics.box.map}\")    \n",
    "print(f\"Mean Average Precision @ .50   : {metrics.box.map50}\") \n",
    "print(f\"Mean Average Precision @ .70   : {metrics.box.map75}\")\n",
    "print(metrics.box.maps)"
   ]
  },
  {
   "cell_type": "code",
   "execution_count": null,
   "metadata": {
    "execution": {
     "iopub.execute_input": "2024-11-21T06:48:14.791543Z",
     "iopub.status.busy": "2024-11-21T06:48:14.790912Z",
     "iopub.status.idle": "2024-11-21T06:48:26.604248Z",
     "shell.execute_reply": "2024-11-21T06:48:26.603397Z",
     "shell.execute_reply.started": "2024-11-21T06:48:14.791512Z"
    },
    "trusted": true
   },
   "outputs": [],
   "source": [
    "image_dir = \"/kaggle/working/data/test/images\"\n",
    "\n",
    "all_images = os.listdir(image_dir)\n",
    "selected_images = all_images[:45]\n",
    "\n",
    "for img_name in selected_images:\n",
    "    img_path = os.path.join(image_dir, img_name) \n",
    "    results = model.predict(img_path)\n",
    "    img = cv2.imread(img_path)\n",
    "    img = cv2.cvtColor(img, cv2.COLOR_BGR2RGB)  \n",
    "    for result in results:\n",
    "        plotted_img = result.plot()\n",
    "        plt.figure(figsize=(8, 6))  \n",
    "        plt.imshow(plotted_img)    \n",
    "        plt.axis('off')             \n",
    "        plt.show() \n"
   ]
  }
 ],
 "metadata": {
  "kaggle": {
   "accelerator": "nvidiaTeslaT4",
   "dataSources": [
    {
     "datasetId": 667889,
     "sourceId": 1176415,
     "sourceType": "datasetVersion"
    }
   ],
   "dockerImageVersionId": 30787,
   "isGpuEnabled": true,
   "isInternetEnabled": true,
   "language": "python",
   "sourceType": "notebook"
  },
  "kernelspec": {
   "display_name": "Python 3",
   "language": "python",
   "name": "python3"
  },
  "language_info": {
   "codemirror_mode": {
    "name": "ipython",
    "version": 3
   },
   "file_extension": ".py",
   "mimetype": "text/x-python",
   "name": "python",
   "nbconvert_exporter": "python",
   "pygments_lexer": "ipython3",
   "version": "3.12.3"
  }
 },
 "nbformat": 4,
 "nbformat_minor": 4
}
